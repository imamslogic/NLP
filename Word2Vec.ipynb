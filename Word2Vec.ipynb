{
  "nbformat": 4,
  "nbformat_minor": 0,
  "metadata": {
    "colab": {
      "name": "Word2Vec.ipynb",
      "provenance": [],
      "authorship_tag": "ABX9TyN2F49l3mqOI6ADtHmkbIcB",
      "include_colab_link": true
    },
    "kernelspec": {
      "name": "python3",
      "display_name": "Python 3"
    }
  },
  "cells": [
    {
      "cell_type": "markdown",
      "metadata": {
        "id": "view-in-github",
        "colab_type": "text"
      },
      "source": [
        "<a href=\"https://colab.research.google.com/github/imamslogic/NLP/blob/main/Word2Vec.ipynb\" target=\"_parent\"><img src=\"https://colab.research.google.com/assets/colab-badge.svg\" alt=\"Open In Colab\"/></a>"
      ]
    },
    {
      "cell_type": "markdown",
      "metadata": {
        "id": "L3x1EeTdfuvm"
      },
      "source": [
        "\r\n",
        "\r\n",
        "# Word2Vec\r\n",
        "\r\n"
      ]
    },
    {
      "cell_type": "code",
      "metadata": {
        "id": "oqv86aERfXUZ"
      },
      "source": [
        "import nltk"
      ],
      "execution_count": 21,
      "outputs": []
    },
    {
      "cell_type": "code",
      "metadata": {
        "id": "tNhOrGhF68s-"
      },
      "source": [
        "from gensim.models import Word2Vec\r\n",
        "from nltk.corpus import stopwords"
      ],
      "execution_count": 22,
      "outputs": []
    },
    {
      "cell_type": "code",
      "metadata": {
        "id": "3LqUZEfl7D-7"
      },
      "source": [
        "import re"
      ],
      "execution_count": 23,
      "outputs": []
    },
    {
      "cell_type": "code",
      "metadata": {
        "id": "81CWDMsxfnq1"
      },
      "source": [
        "paragraph =  \"\"\"I have three visions for India. In 3000 years of our history, people from all over \r\n",
        "               the world have come and invaded us, captured our lands, conquered our minds. \r\n",
        "               From Alexander onwards, the Greeks, the Turks, the Moguls, the Portuguese, the British,\r\n",
        "               the French, the Dutch, all of them came and looted us, took over what was ours. \r\n",
        "               Yet we have not done this to any other nation. We have not conquered anyone. \r\n",
        "               We have not grabbed their land, their culture, \r\n",
        "               their history and tried to enforce our way of life on them. \r\n",
        "               Why? Because we respect the freedom of others.That is why my \r\n",
        "               first vision is that of freedom. I believe that India got its first vision of \r\n",
        "               this in 1857, when we started the War of Independence. It is this freedom that\r\n",
        "               we must protect and nurture and build on. If we are not free, no one will respect us.\r\n",
        "               My second vision for India’s development. For fifty years we have been a developing nation.\r\n",
        "               It is time we see ourselves as a developed nation. We are among the top 5 nations of the world\r\n",
        "               in terms of GDP. We have a 10 percent growth rate in most areas. Our poverty levels are falling.\r\n",
        "               Our achievements are being globally recognised today. Yet we lack the self-confidence to\r\n",
        "               see ourselves as a developed nation, self-reliant and self-assured. Isn’t this incorrect?\r\n",
        "               I have a third vision. India must stand up to the world. Because I believe that unless India \r\n",
        "               stands up to the world, no one will respect us. Only strength respects strength. We must be \r\n",
        "               strong not only as a military power but also as an economic power. Both must go hand-in-hand. \r\n",
        "               My good fortune was to have worked with three great minds. Dr. Vikram Sarabhai of the Dept. of \r\n",
        "               space, Professor Satish Dhawan, who succeeded him and Dr. Brahm Prakash, father of nuclear material.\r\n",
        "               I was lucky to have worked with all three of them closely and consider this the great opportunity of my life. \r\n",
        "               I see four milestones in my career\"\"\""
      ],
      "execution_count": 24,
      "outputs": []
    },
    {
      "cell_type": "markdown",
      "metadata": {
        "id": "QKe-sMKBgJU0"
      },
      "source": [
        "# Preprocessing the data"
      ]
    },
    {
      "cell_type": "code",
      "metadata": {
        "id": "ZQGCcDBQ7PH3"
      },
      "source": [
        "text = re.sub(r'\\[[0-9]*\\]',' ',paragraph)\r\n",
        "text = re.sub(r'\\s+',' ',text)\r\n",
        "text = text.lower()\r\n",
        "text = re.sub(r'\\d',' ',text)\r\n",
        "text = re.sub(r'\\s+',' ',text)"
      ],
      "execution_count": 25,
      "outputs": []
    },
    {
      "cell_type": "markdown",
      "metadata": {
        "id": "cE2k55AW7WvD"
      },
      "source": [
        "# Preparing the dataset"
      ]
    },
    {
      "cell_type": "code",
      "metadata": {
        "colab": {
          "base_uri": "https://localhost:8080/"
        },
        "id": "3I1TSx-77esv",
        "outputId": "d59d440d-1d1c-4f08-d2a8-aba16f4f057e"
      },
      "source": [
        "nltk.download('punkt')\r\n",
        "nltk.download('stopwords')"
      ],
      "execution_count": 26,
      "outputs": [
        {
          "output_type": "stream",
          "text": [
            "[nltk_data] Downloading package punkt to /root/nltk_data...\n",
            "[nltk_data]   Package punkt is already up-to-date!\n",
            "[nltk_data] Downloading package stopwords to /root/nltk_data...\n",
            "[nltk_data]   Package stopwords is already up-to-date!\n"
          ],
          "name": "stdout"
        },
        {
          "output_type": "execute_result",
          "data": {
            "text/plain": [
              "True"
            ]
          },
          "metadata": {
            "tags": []
          },
          "execution_count": 26
        }
      ]
    },
    {
      "cell_type": "code",
      "metadata": {
        "id": "5rqJgrBhhGJ_"
      },
      "source": [
        "sentences = nltk.sent_tokenize(text)\r\n",
        "\r\n",
        "sentences = [nltk.word_tokenize(sentence) for sentence in sentences]"
      ],
      "execution_count": 27,
      "outputs": []
    },
    {
      "cell_type": "code",
      "metadata": {
        "id": "YB904pn17b2L"
      },
      "source": [
        "for i in range(len(sentences)):\r\n",
        "    sentences[i] = [word for word in sentences[i] if word not in stopwords.words('english')]"
      ],
      "execution_count": 28,
      "outputs": []
    },
    {
      "cell_type": "markdown",
      "metadata": {
        "id": "l3R6VuGo7wCD"
      },
      "source": [
        "# Training the Word2Vec model"
      ]
    },
    {
      "cell_type": "code",
      "metadata": {
        "id": "-2DLl21i7jNG"
      },
      "source": [
        "model = Word2Vec(sentences, min_count=1)\r\n",
        "\r\n",
        "words = model.wv.vocab"
      ],
      "execution_count": 29,
      "outputs": []
    },
    {
      "cell_type": "markdown",
      "metadata": {
        "id": "k39hgUY375hj"
      },
      "source": [
        "# Finding Word Vectors"
      ]
    },
    {
      "cell_type": "code",
      "metadata": {
        "id": "FvBjqfNQ72Y5"
      },
      "source": [
        "vector = model.wv['war']"
      ],
      "execution_count": 30,
      "outputs": []
    },
    {
      "cell_type": "code",
      "metadata": {
        "colab": {
          "base_uri": "https://localhost:8080/"
        },
        "id": "8cW3ROf_79uk",
        "outputId": "5a58b34a-2736-44ca-ec80-b5d64a9c837c"
      },
      "source": [
        "vector"
      ],
      "execution_count": 31,
      "outputs": [
        {
          "output_type": "execute_result",
          "data": {
            "text/plain": [
              "array([-8.9375651e-04, -3.1376325e-03,  1.0537702e-03, -1.9450904e-03,\n",
              "        3.0842461e-03,  4.1124332e-03,  2.3399243e-05, -1.0198564e-03,\n",
              "       -3.7304212e-03,  2.0895514e-03, -1.0494702e-03,  3.6583145e-03,\n",
              "        1.0510694e-03, -1.9538808e-03,  2.6309178e-03,  4.1722050e-03,\n",
              "        7.2436588e-04,  2.5424617e-03,  3.5781771e-04, -1.3244826e-03,\n",
              "       -1.2622752e-04, -2.2817370e-03,  1.3019755e-03, -8.4410165e-04,\n",
              "       -3.9910534e-03, -2.8240005e-03,  3.7313672e-03, -1.8058947e-04,\n",
              "       -2.4498918e-03, -2.5863594e-03,  1.0760184e-03, -4.2580757e-03,\n",
              "       -3.6898530e-03,  4.8180618e-03, -1.6344789e-03, -1.7265922e-03,\n",
              "       -2.5939171e-03,  9.2097081e-04,  3.9935503e-03,  2.5808862e-03,\n",
              "        2.2017329e-03,  1.3473139e-03,  2.6610713e-03, -5.6427222e-04,\n",
              "       -2.8046663e-03, -4.8950557e-03,  3.5643554e-03,  1.1119681e-03,\n",
              "        4.8227743e-03,  2.9777309e-03, -2.4887112e-03,  3.5883668e-03,\n",
              "        2.7159064e-03, -1.7995853e-03, -2.1922996e-03, -3.2773863e-03,\n",
              "        1.2286170e-03,  9.3053351e-04, -4.1236947e-03, -7.3579737e-05,\n",
              "        4.6961969e-03, -8.4549456e-04,  4.7896137e-03,  2.5326605e-03,\n",
              "        4.5343633e-03,  4.9618804e-03, -4.7548958e-03,  3.4802696e-03,\n",
              "        3.5953196e-03, -2.0191739e-03,  2.7308371e-03,  3.6718455e-04,\n",
              "        2.1911340e-03, -4.6510980e-03, -2.3347102e-03,  4.3410645e-03,\n",
              "        4.1009695e-04, -3.6633962e-03,  1.4187098e-03, -1.7312714e-03,\n",
              "        9.9517812e-04, -3.1870848e-03,  2.7310639e-03,  3.0382115e-03,\n",
              "        1.3000896e-03, -1.8251064e-03, -4.8557197e-04,  1.1133924e-03,\n",
              "       -4.4095833e-03, -4.7761174e-03,  4.1478886e-03,  2.8212827e-03,\n",
              "        9.2991802e-04,  5.0843961e-04,  2.6435284e-03, -2.7434395e-03,\n",
              "        3.6889249e-03,  2.1847025e-03, -3.4340476e-03,  4.5929658e-03],\n",
              "      dtype=float32)"
            ]
          },
          "metadata": {
            "tags": []
          },
          "execution_count": 31
        }
      ]
    },
    {
      "cell_type": "code",
      "metadata": {
        "id": "49-hXhLp8hyb"
      },
      "source": [
        "vector = model.wv['india']"
      ],
      "execution_count": 32,
      "outputs": []
    },
    {
      "cell_type": "code",
      "metadata": {
        "id": "iN7jpMqB8lSK"
      },
      "source": [
        "vector = model.wv['developed']"
      ],
      "execution_count": 33,
      "outputs": []
    },
    {
      "cell_type": "markdown",
      "metadata": {
        "id": "zzpHM9rd8DsP"
      },
      "source": [
        "# Most similar words"
      ]
    },
    {
      "cell_type": "code",
      "metadata": {
        "id": "aDMTzIxD7_4k"
      },
      "source": [
        "similar = model.wv.most_similar('vikram')"
      ],
      "execution_count": 34,
      "outputs": []
    },
    {
      "cell_type": "code",
      "metadata": {
        "colab": {
          "base_uri": "https://localhost:8080/"
        },
        "id": "Y8wcSt-88G9s",
        "outputId": "367248df-4758-4553-b92a-289fc3581824"
      },
      "source": [
        "similar"
      ],
      "execution_count": 35,
      "outputs": [
        {
          "output_type": "execute_result",
          "data": {
            "text/plain": [
              "[('grabbed', 0.16632774472236633),\n",
              " ('war', 0.1416054219007492),\n",
              " ('done', 0.13334842026233673),\n",
              " ('moguls', 0.11888445168733597),\n",
              " ('?', 0.1186276376247406),\n",
              " ('took', 0.11695265769958496),\n",
              " ('poverty', 0.11598668247461319),\n",
              " ('economic', 0.11449915170669556),\n",
              " ('professor', 0.11167554557323456),\n",
              " ('great', 0.10678336024284363)]"
            ]
          },
          "metadata": {
            "tags": []
          },
          "execution_count": 35
        }
      ]
    },
    {
      "cell_type": "code",
      "metadata": {
        "id": "sXoNw5hD8Inz"
      },
      "source": [
        "similar = model.wv.most_similar('developed')"
      ],
      "execution_count": 36,
      "outputs": []
    },
    {
      "cell_type": "code",
      "metadata": {
        "colab": {
          "base_uri": "https://localhost:8080/"
        },
        "id": "pq-Zxip68uov",
        "outputId": "94e5c67c-e192-4006-feb1-f066a31ae3f1"
      },
      "source": [
        "similar"
      ],
      "execution_count": 37,
      "outputs": [
        {
          "output_type": "execute_result",
          "data": {
            "text/plain": [
              "[('done', 0.22578665614128113),\n",
              " ('land', 0.21951305866241455),\n",
              " ('onwards', 0.21341601014137268),\n",
              " ('tried', 0.2099781334400177),\n",
              " ('percent', 0.20888233184814453),\n",
              " ('economic', 0.20443183183670044),\n",
              " ('lucky', 0.1775732785463333),\n",
              " ('hand-in-hand', 0.15651199221611023),\n",
              " ('stand', 0.15159152448177338),\n",
              " ('material', 0.13563619554042816)]"
            ]
          },
          "metadata": {
            "tags": []
          },
          "execution_count": 37
        }
      ]
    },
    {
      "cell_type": "code",
      "metadata": {
        "id": "fmTKjNPY8wEO"
      },
      "source": [
        ""
      ],
      "execution_count": 37,
      "outputs": []
    }
  ]
}