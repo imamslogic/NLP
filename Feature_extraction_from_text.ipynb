{
  "nbformat": 4,
  "nbformat_minor": 0,
  "metadata": {
    "kernelspec": {
      "display_name": "Python 3",
      "language": "python",
      "name": "python3"
    },
    "language_info": {
      "codemirror_mode": {
        "name": "ipython",
        "version": 3
      },
      "file_extension": ".py",
      "mimetype": "text/x-python",
      "name": "python",
      "nbconvert_exporter": "python",
      "pygments_lexer": "ipython3",
      "version": "3.7.3"
    },
    "colab": {
      "name": "Feature extraction from text.ipynb",
      "provenance": [],
      "include_colab_link": true
    }
  },
  "cells": [
    {
      "cell_type": "markdown",
      "metadata": {
        "id": "view-in-github",
        "colab_type": "text"
      },
      "source": [
        "<a href=\"https://colab.research.google.com/github/imamslogic/NLP/blob/main/Feature_extraction_from_text.ipynb\" target=\"_parent\"><img src=\"https://colab.research.google.com/assets/colab-badge.svg\" alt=\"Open In Colab\"/></a>"
      ]
    },
    {
      "cell_type": "markdown",
      "metadata": {
        "id": "p_DKZR0wJeaS"
      },
      "source": [
        "# Countvectorizer"
      ]
    },
    {
      "cell_type": "code",
      "metadata": {
        "id": "WLAmwPJCJead"
      },
      "source": [
        "from sklearn.feature_extraction.text import CountVectorizer\n",
        "# list of text documents\n",
        "text = [\"hello, my name is Aman and I am  a data scinetist.\"]\n",
        "text1 = [\"You are watching unfold data science, Aman Aman\"]"
      ],
      "execution_count": 19,
      "outputs": []
    },
    {
      "cell_type": "code",
      "metadata": {
        "id": "Jekn1F3DJeag",
        "colab": {
          "base_uri": "https://localhost:8080/"
        },
        "outputId": "5f6d541f-d58c-4824-9e17-5a4a45307319"
      },
      "source": [
        "# create the transform\n",
        "vectorizer = CountVectorizer()\n",
        "\n",
        "# tokenize and build vocab\n",
        "vectorizer.fit(text)"
      ],
      "execution_count": 20,
      "outputs": [
        {
          "output_type": "execute_result",
          "data": {
            "text/plain": [
              "CountVectorizer(analyzer='word', binary=False, decode_error='strict',\n",
              "                dtype=<class 'numpy.int64'>, encoding='utf-8', input='content',\n",
              "                lowercase=True, max_df=1.0, max_features=None, min_df=1,\n",
              "                ngram_range=(1, 1), preprocessor=None, stop_words=None,\n",
              "                strip_accents=None, token_pattern='(?u)\\\\b\\\\w\\\\w+\\\\b',\n",
              "                tokenizer=None, vocabulary=None)"
            ]
          },
          "metadata": {
            "tags": []
          },
          "execution_count": 20
        }
      ]
    },
    {
      "cell_type": "code",
      "metadata": {
        "id": "QItC42PMJeaj",
        "colab": {
          "base_uri": "https://localhost:8080/"
        },
        "outputId": "82eeafc3-5ea7-4a87-d6df-1d124953bd31"
      },
      "source": [
        "# summarize\n",
        "print(vectorizer.vocabulary_)"
      ],
      "execution_count": 21,
      "outputs": [
        {
          "output_type": "stream",
          "text": [
            "{'hello': 4, 'my': 6, 'name': 7, 'is': 5, 'aman': 1, 'and': 2, 'am': 0, 'data': 3, 'scinetist': 8}\n"
          ],
          "name": "stdout"
        }
      ]
    },
    {
      "cell_type": "code",
      "metadata": {
        "id": "_PdhbXNIJeak",
        "colab": {
          "base_uri": "https://localhost:8080/"
        },
        "outputId": "107d21d4-8cf4-4806-b1ee-77d15764e12b"
      },
      "source": [
        "# encode document\n",
        "newvector = vectorizer.transform(text1)\n",
        "\n",
        "# summarize encoded vector\n",
        "print(newvector.toarray())"
      ],
      "execution_count": 23,
      "outputs": [
        {
          "output_type": "stream",
          "text": [
            "[[0 2 0 1 0 0 0 0 0]]\n"
          ],
          "name": "stdout"
        }
      ]
    },
    {
      "cell_type": "markdown",
      "metadata": {
        "id": "DD9MUxY8Jeal"
      },
      "source": [
        "# TF - IDF"
      ]
    },
    {
      "cell_type": "markdown",
      "metadata": {
        "id": "3654pWgUJeal"
      },
      "source": [
        "# Purpose of TF-IDF is to highlight words which are frequent in a document but not across documents."
      ]
    },
    {
      "cell_type": "code",
      "metadata": {
        "id": "5RPYUqb6Jeal"
      },
      "source": [
        "from sklearn.feature_extraction.text import TfidfVectorizer\n",
        "# list of text documents\n",
        "text = [\"Aman is a data scientist in India\",\"This is unfold data science\",\"Data Science is a promising career\"]"
      ],
      "execution_count": 24,
      "outputs": []
    },
    {
      "cell_type": "code",
      "metadata": {
        "id": "PVhyHU-XJeam"
      },
      "source": [
        "# create the transform\n",
        "vectorizer = TfidfVectorizer()"
      ],
      "execution_count": 25,
      "outputs": []
    },
    {
      "cell_type": "code",
      "metadata": {
        "id": "LeQV4TD9Jeam",
        "colab": {
          "base_uri": "https://localhost:8080/"
        },
        "outputId": "324fb357-f428-4842-f261-c54acaf04a9e"
      },
      "source": [
        "# tokenize and build vocab\n",
        "vectorizer.fit(text)"
      ],
      "execution_count": 26,
      "outputs": [
        {
          "output_type": "execute_result",
          "data": {
            "text/plain": [
              "TfidfVectorizer(analyzer='word', binary=False, decode_error='strict',\n",
              "                dtype=<class 'numpy.float64'>, encoding='utf-8',\n",
              "                input='content', lowercase=True, max_df=1.0, max_features=None,\n",
              "                min_df=1, ngram_range=(1, 1), norm='l2', preprocessor=None,\n",
              "                smooth_idf=True, stop_words=None, strip_accents=None,\n",
              "                sublinear_tf=False, token_pattern='(?u)\\\\b\\\\w\\\\w+\\\\b',\n",
              "                tokenizer=None, use_idf=True, vocabulary=None)"
            ]
          },
          "metadata": {
            "tags": []
          },
          "execution_count": 26
        }
      ]
    },
    {
      "cell_type": "code",
      "metadata": {
        "id": "gs47anlQJean",
        "colab": {
          "base_uri": "https://localhost:8080/"
        },
        "outputId": "568c965a-35a6-4424-f24c-ec41bbe71c6d"
      },
      "source": [
        "#Focus on IDF VALUES\n",
        "print(vectorizer.idf_)"
      ],
      "execution_count": 27,
      "outputs": [
        {
          "output_type": "stream",
          "text": [
            "[1.69314718 1.69314718 1.         1.69314718 1.69314718 1.\n",
            " 1.69314718 1.28768207 1.69314718 1.69314718 1.69314718]\n"
          ],
          "name": "stdout"
        }
      ]
    },
    {
      "cell_type": "code",
      "metadata": {
        "id": "5rpxy3U3Jeao",
        "colab": {
          "base_uri": "https://localhost:8080/"
        },
        "outputId": "08ef722e-df52-43e3-e5ab-f1199b85b289"
      },
      "source": [
        "# summarize\n",
        "print(vectorizer.vocabulary_)"
      ],
      "execution_count": 28,
      "outputs": [
        {
          "output_type": "stream",
          "text": [
            "{'aman': 0, 'is': 5, 'data': 2, 'scientist': 8, 'in': 3, 'india': 4, 'this': 9, 'unfold': 10, 'science': 7, 'promising': 6, 'career': 1}\n"
          ],
          "name": "stdout"
        }
      ]
    },
    {
      "cell_type": "code",
      "metadata": {
        "id": "fEk1-PjkJeaq",
        "colab": {
          "base_uri": "https://localhost:8080/",
          "height": 35
        },
        "outputId": "e2459908-fa91-499a-f8e4-604afa0ea1b6"
      },
      "source": [
        "text_as_input = text[2]\n",
        "text_as_input"
      ],
      "execution_count": 30,
      "outputs": [
        {
          "output_type": "execute_result",
          "data": {
            "application/vnd.google.colaboratory.intrinsic+json": {
              "type": "string"
            },
            "text/plain": [
              "'Data Science is a promising career'"
            ]
          },
          "metadata": {
            "tags": []
          },
          "execution_count": 30
        }
      ]
    },
    {
      "cell_type": "code",
      "metadata": {
        "id": "zvRrcCqEJeaq"
      },
      "source": [
        "# encode document\n",
        "vector = vectorizer.transform([text_as_input])"
      ],
      "execution_count": 31,
      "outputs": []
    },
    {
      "cell_type": "code",
      "metadata": {
        "id": "LaeNFSM7Jear",
        "colab": {
          "base_uri": "https://localhost:8080/"
        },
        "outputId": "46b2383d-08b7-41ab-a93a-51e77e173bb1"
      },
      "source": [
        "# summarize encoded vector\n",
        "print(vector.toarray())"
      ],
      "execution_count": 32,
      "outputs": [
        {
          "output_type": "stream",
          "text": [
            "[[0.         0.55249005 0.32630952 0.         0.         0.32630952\n",
            "  0.55249005 0.42018292 0.         0.         0.        ]]\n"
          ],
          "name": "stdout"
        }
      ]
    },
    {
      "cell_type": "code",
      "metadata": {
        "id": "vBEKFZl5Jear"
      },
      "source": [
        ""
      ],
      "execution_count": 32,
      "outputs": []
    }
  ]
}